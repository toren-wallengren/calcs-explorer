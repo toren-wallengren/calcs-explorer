{
 "cells": [
  {
   "cell_type": "code",
   "execution_count": 11,
   "id": "5312d811-1b4e-4206-948a-f6497f5ce36f",
   "metadata": {},
   "outputs": [],
   "source": [
    "import numpy as np\n",
    "\n",
    "def add_roots_of_unity(num_additional_roots):\n",
    "    n = num_additional_roots\n",
    "    # Generate the n-th roots of unity\n",
    "    roots_of_unity = [np.exp(2j * np.pi * k / n) for k in range(1, n + 1)]\n",
    "    return roots_of_unity"
   ]
  },
  {
   "cell_type": "code",
   "execution_count": 12,
   "id": "26bf9898-388a-4e2f-9d84-bea84f5f5205",
   "metadata": {},
   "outputs": [
    {
     "data": {
      "text/plain": [
       "[np.complex128(0.5000000000000001+0.8660254037844386j),\n",
       " np.complex128(-0.49999999999999983+0.8660254037844387j),\n",
       " np.complex128(-1+1.2246467991473532e-16j),\n",
       " np.complex128(-0.5000000000000004-0.8660254037844384j),\n",
       " np.complex128(0.5000000000000001-0.8660254037844386j),\n",
       " np.complex128(1-2.4492935982947064e-16j)]"
      ]
     },
     "execution_count": 12,
     "metadata": {},
     "output_type": "execute_result"
    }
   ],
   "source": [
    "add_roots_of_unity(6)"
   ]
  },
  {
   "cell_type": "code",
   "execution_count": null,
   "id": "914de4e7-17df-4589-b167-2258915efa00",
   "metadata": {},
   "outputs": [],
   "source": []
  }
 ],
 "metadata": {
  "kernelspec": {
   "display_name": "pycalcs",
   "language": "python",
   "name": "pycalcs"
  },
  "language_info": {
   "codemirror_mode": {
    "name": "ipython",
    "version": 3
   },
   "file_extension": ".py",
   "mimetype": "text/x-python",
   "name": "python",
   "nbconvert_exporter": "python",
   "pygments_lexer": "ipython3",
   "version": "3.12.6"
  }
 },
 "nbformat": 4,
 "nbformat_minor": 5
}
