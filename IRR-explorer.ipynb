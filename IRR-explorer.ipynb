{
 "cells": [
  {
   "cell_type": "code",
   "execution_count": 1,
   "id": "6ca9ec4c-3d3f-48ef-86e8-4f60765afeae",
   "metadata": {},
   "outputs": [
    {
     "data": {
      "application/vnd.jupyter.widget-view+json": {
       "model_id": "51d37157fbb445218e8f948518f8d4da",
       "version_major": 2,
       "version_minor": 0
      },
      "text/plain": [
       "VBox(children=(Text(value='cashflows.csv', description='CSV Name:', placeholder='Enter CSV file name'), Dropdo…"
      ]
     },
     "metadata": {},
     "output_type": "display_data"
    }
   ],
   "source": [
    "import data_loading_widget\n",
    "\n",
    "# Step 1: Load the data using data_loading_widget\n",
    "npv_expr_output = None\n",
    "\n",
    "def capture_npv_expr(expr):\n",
    "    global npv_expr_output\n",
    "    npv_expr_output = expr\n",
    "    print(\"npv_expr has been loaded and is available as npv_expr_output\")\n",
    "\n",
    "data_loading_widget.display_data_loading_widget(callback=capture_npv_expr)"
   ]
  },
  {
   "cell_type": "code",
   "execution_count": 2,
   "id": "8a214501-09a5-4867-bdd3-12d5307a53ff",
   "metadata": {},
   "outputs": [
    {
     "data": {
      "application/vnd.jupyter.widget-view+json": {
       "model_id": "91e35ae439a246328b18a4384f0a72fb",
       "version_major": 2,
       "version_minor": 0
      },
      "text/plain": [
       "VBox(children=(FloatText(value=-1.0, description='X min:'), FloatText(value=1.0, description='X max:'), Checkb…"
      ]
     },
     "metadata": {},
     "output_type": "display_data"
    }
   ],
   "source": [
    "import data_plotting_widget\n",
    "\n",
    "# Step 2: Plot the data using data_plotting_widget\n",
    "if npv_expr_output is not None:\n",
    "    data_plotting_widget.display_data_plotting_widget(npv_expr=npv_expr_output)"
   ]
  },
  {
   "cell_type": "code",
   "execution_count": null,
   "id": "09c6f5f7-2562-4e1a-942f-20bbfe19b0df",
   "metadata": {},
   "outputs": [],
   "source": [
    "xmin = 4850000000000000000\n",
    "xmax = 4950000000000000000"
   ]
  }
 ],
 "metadata": {
  "kernelspec": {
   "display_name": "Python 3 (ipykernel)",
   "language": "python",
   "name": "python3"
  },
  "language_info": {
   "codemirror_mode": {
    "name": "ipython",
    "version": 3
   },
   "file_extension": ".py",
   "mimetype": "text/x-python",
   "name": "python",
   "nbconvert_exporter": "python",
   "pygments_lexer": "ipython3",
   "version": "3.12.6"
  }
 },
 "nbformat": 4,
 "nbformat_minor": 5
}
