{
 "cells": [
  {
   "cell_type": "code",
   "execution_count": 44,
   "id": "b3862264-b287-452c-99c7-038f79fd8942",
   "metadata": {},
   "outputs": [
    {
     "name": "stdout",
     "output_type": "stream",
     "text": [
      "Error in finding fixed point: Could not find root within given tolerance. (0.199675246764443150283 > 2.16840434497100886801e-19)\n",
      "Try another starting point or tweak arguments.\n",
      "Approximate Fixed Points from Linearized System: [1.5030672529752596e+110]\n",
      "Function at Approximate Fixed Points (Nonlinear f): [0]\n",
      "Stability at Approximate Fixed Points (Nonlinear dN/dr): [0]\n"
     ]
    }
   ],
   "source": [
    "from sympy import symbols, diff, series, nsolve, oo\n",
    "from sympy import N as sympy_N  # for numeric evaluation\n",
    "from sympy import Eq\n",
    "\n",
    "# Define symbolic variables\n",
    "r, t = symbols('r t', real=True)\n",
    "p = 2\n",
    "q = 1\n",
    "t_val = 1 / 366  # original t value\n",
    "\n",
    "# Define the function f\n",
    "f = -1 + p * (1 + r)**(-t) + q * (1 + r)**(-1)\n",
    "\n",
    "# Compute df/dr\n",
    "df_dr = diff(f, r)\n",
    "\n",
    "# Define Newton's method iteration N\n",
    "N = r - f / df_dr\n",
    "\n",
    "# Compute the Taylor series of f around t = 0, up to first-order term\n",
    "f_taylor = series(f, t, 0, 2).removeO()  # Taylor expansion around t=0, first order\n",
    "\n",
    "# Substitute t = t_val into the Taylor expansion for f to get the approximate fixed point\n",
    "f_approx = f_taylor.subs(t, t_val)\n",
    "\n",
    "# Use nsolve to find a positive real fixed point approximation\n",
    "approx_fixed_point = []\n",
    "try:\n",
    "    # Attempt to solve numerically within a positive range\n",
    "    fixed_point = nsolve(f_approx, r, 1)  # Initial guess at r=1\n",
    "    if fixed_point > 0:\n",
    "        approx_fixed_point.append(fixed_point)\n",
    "except Exception as e:\n",
    "    print(f\"Error in finding fixed point: {e}\")\n",
    "\n",
    "# Compute the original dN/dr (nonlinear)\n",
    "dN_dr = diff(N, r)\n",
    "\n",
    "# Evaluate dN/dr at the approximate fixed point for stability analysis\n",
    "approx_fixed_point = [1.5030672529752596e+110]\n",
    "stability_at_approx_fixed_point = [sympy_N(dN_dr.subs({r: pt, t: t_val})) for pt in approx_fixed_point]\n",
    "\n",
    "# Display results\n",
    "print(\"Approximate Fixed Points from Linearized System:\", approx_fixed_point)\n",
    "print(\"Function at Approximate Fixed Points (Nonlinear f):\", [sympy_N(f.subs({r: pt, t: t_val})) for pt in approx_fixed_point])\n",
    "print(\"Stability at Approximate Fixed Points (Nonlinear dN/dr):\", stability_at_approx_fixed_point)"
   ]
  },
  {
   "cell_type": "code",
   "execution_count": null,
   "id": "0dd6df8e-e73c-42e8-a2dd-cda25feaeffd",
   "metadata": {},
   "outputs": [],
   "source": []
  }
 ],
 "metadata": {
  "kernelspec": {
   "display_name": "pycalcs",
   "language": "python",
   "name": "pycalcs"
  },
  "language_info": {
   "codemirror_mode": {
    "name": "ipython",
    "version": 3
   },
   "file_extension": ".py",
   "mimetype": "text/x-python",
   "name": "python",
   "nbconvert_exporter": "python",
   "pygments_lexer": "ipython3",
   "version": "3.12.6"
  }
 },
 "nbformat": 4,
 "nbformat_minor": 5
}
