{
 "cells": [
  {
   "cell_type": "code",
   "execution_count": 9,
   "id": "16bb21b2-784e-42f3-81d5-89eea85d1477",
   "metadata": {},
   "outputs": [],
   "source": [
    "import numpy as np\n",
    "import pandas as pd\n",
    "from datetime import date, timedelta\n",
    "\n",
    "irr_type = \"deannualized\"\n",
    "irr_values = [0.1]  # Example IRRs\n",
    "days_in_period = 10 # Time period in days"
   ]
  },
  {
   "cell_type": "code",
   "execution_count": 10,
   "id": "e8021859-2c7b-40e7-b80d-2ce7e5eaf34c",
   "metadata": {},
   "outputs": [
    {
     "data": {
      "text/plain": [
       "[0.009576582776887]"
      ]
     },
     "execution_count": 10,
     "metadata": {},
     "output_type": "execute_result"
    }
   ],
   "source": [
    "daily_irrs = []\n",
    "for irr in irr_values:\n",
    "    if irr_type == \"deannualized\":\n",
    "        daily_irr = (1 + irr)**(1/days_in_period) - 1\n",
    "    elif irr_type == \"annualized\":\n",
    "        daily_irr = (1 + irr)**(1/365) - 1\n",
    "    elif irr_type == \"daily\":\n",
    "        daily_irr = irr\n",
    "    else:\n",
    "        raise ValueError(\"Unsupported IRR type. Choose from 'annualized', 'deannualized', or 'daily'.\")\n",
    "    daily_irrs.append(daily_irr)\n",
    "daily_irrs"
   ]
  },
  {
   "cell_type": "code",
   "execution_count": 11,
   "id": "d6e9436e-5a6b-4d26-9143-0894a5925c49",
   "metadata": {},
   "outputs": [
    {
     "data": {
      "text/plain": [
       "[0.9905142582145218]"
      ]
     },
     "execution_count": 11,
     "metadata": {},
     "output_type": "execute_result"
    }
   ],
   "source": [
    "x_values = [1 / (1 + irr) for irr in daily_irrs]\n",
    "x_values"
   ]
  },
  {
   "cell_type": "code",
   "execution_count": 12,
   "id": "4a99adb8-3630-463f-af2a-b7c4385c895a",
   "metadata": {},
   "outputs": [
    {
     "data": {
      "text/plain": [
       "8"
      ]
     },
     "execution_count": 12,
     "metadata": {},
     "output_type": "execute_result"
    }
   ],
   "source": [
    "num_additional_roots = days_in_period - (len(irr_values) + 1)\n",
    "num_additional_roots"
   ]
  },
  {
   "cell_type": "code",
   "execution_count": 13,
   "id": "45a383cb-1e6b-4aee-9136-731770693648",
   "metadata": {},
   "outputs": [
    {
     "data": {
      "text/plain": [
       "[np.complex128(0.766044443118978+0.6427876096865393j),\n",
       " np.complex128(0.17364817766693041+0.984807753012208j),\n",
       " np.complex128(-0.49999999999999983+0.8660254037844387j),\n",
       " np.complex128(-0.9396926207859083+0.3420201433256689j),\n",
       " np.complex128(-0.9396926207859084-0.34202014332566866j),\n",
       " np.complex128(-0.5000000000000004-0.8660254037844384j),\n",
       " np.complex128(0.17364817766692997-0.9848077530122081j),\n",
       " np.complex128(0.7660444431189778-0.6427876096865396j)]"
      ]
     },
     "execution_count": 13,
     "metadata": {},
     "output_type": "execute_result"
    }
   ],
   "source": [
    "# If num_additional_roots N is even, we want to use the strictly complex N+1 roots of unity\n",
    "if num_additional_roots % 2 == 0:\n",
    "    n = num_additional_roots + 1\n",
    "    nth_roots = [np.exp(2j * np.pi * k / n) for k in range(1, n) if np.abs(np.exp(2j * np.pi * k / n) - 1) > 1e-10]\n",
    "else:\n",
    "    n = num_additional_roots\n",
    "    nth_roots = [np.exp(2j * np.pi * k / n) for k in range(1, n) if np.abs(np.exp(2j * np.pi * k / n) - 1) > 1e-10]\n",
    "    nth_roots.append(x_values[0])\n",
    "nth_roots"
   ]
  },
  {
   "cell_type": "code",
   "execution_count": 14,
   "id": "94fd1cf1-c9e6-48f8-90b4-88f519b01937",
   "metadata": {},
   "outputs": [
    {
     "data": {
      "text/plain": [
       "[0.9905142582145218,\n",
       " np.complex128(0.766044443118978+0.6427876096865393j),\n",
       " np.complex128(0.17364817766693041+0.984807753012208j),\n",
       " np.complex128(-0.49999999999999983+0.8660254037844387j),\n",
       " np.complex128(-0.9396926207859083+0.3420201433256689j),\n",
       " np.complex128(-0.9396926207859084-0.34202014332566866j),\n",
       " np.complex128(-0.5000000000000004-0.8660254037844384j),\n",
       " np.complex128(0.17364817766692997-0.9848077530122081j),\n",
       " np.complex128(0.7660444431189778-0.6427876096865396j)]"
      ]
     },
     "execution_count": 14,
     "metadata": {},
     "output_type": "execute_result"
    }
   ],
   "source": [
    "for val in nth_roots:\n",
    "    x_values.append(val)\n",
    "x_values"
   ]
  },
  {
   "cell_type": "code",
   "execution_count": 15,
   "id": "99b625a2-7763-4aae-a03d-7a02565bb644",
   "metadata": {},
   "outputs": [
    {
     "data": {
      "text/plain": [
       "array([ 1.        +0.00000000e+00j,  0.00948574-1.11022302e-16j,\n",
       "        0.00948574-6.66133815e-16j,  0.00948574-1.42941214e-15j,\n",
       "        0.00948574+9.43689571e-16j,  0.00948574+1.44328993e-15j,\n",
       "        0.00948574-1.11022302e-16j,  0.00948574-1.77635684e-15j,\n",
       "        0.00948574-1.20736754e-15j, -0.99051426+1.72084569e-15j])"
      ]
     },
     "execution_count": 15,
     "metadata": {},
     "output_type": "execute_result"
    }
   ],
   "source": [
    "poly = np.poly(x_values)\n",
    "poly"
   ]
  },
  {
   "cell_type": "code",
   "execution_count": 16,
   "id": "2175525d-7500-45e4-93bf-8ecb767ea94c",
   "metadata": {},
   "outputs": [],
   "source": [
    "cfs = []\n",
    "for coef in poly:\n",
    "    im = np.imag(coef)\n",
    "    if np.abs(im) > 1e-10:\n",
    "        print(\"DANGER\")\n",
    "        print(im)\n",
    "    cfs.append(1000*np.real(coef))"
   ]
  },
  {
   "cell_type": "code",
   "execution_count": 17,
   "id": "5a383a6f-ff24-43f6-8edc-2ff02b9c1f52",
   "metadata": {},
   "outputs": [
    {
     "data": {
      "text/plain": [
       "[datetime.date(2024, 10, 23),\n",
       " datetime.date(2024, 10, 22),\n",
       " datetime.date(2024, 10, 21),\n",
       " datetime.date(2024, 10, 20),\n",
       " datetime.date(2024, 10, 19),\n",
       " datetime.date(2024, 10, 18),\n",
       " datetime.date(2024, 10, 17),\n",
       " datetime.date(2024, 10, 16),\n",
       " datetime.date(2024, 10, 15),\n",
       " datetime.date(2024, 10, 14)]"
      ]
     },
     "execution_count": 17,
     "metadata": {},
     "output_type": "execute_result"
    }
   ],
   "source": [
    "dates = [date.today() - timedelta(days=i) for i in range(len(cfs))]\n",
    "dates"
   ]
  },
  {
   "cell_type": "code",
   "execution_count": 18,
   "id": "dedb27de-54c7-459a-8231-70ad1e497a06",
   "metadata": {},
   "outputs": [
    {
     "data": {
      "text/html": [
       "<div>\n",
       "<style scoped>\n",
       "    .dataframe tbody tr th:only-of-type {\n",
       "        vertical-align: middle;\n",
       "    }\n",
       "\n",
       "    .dataframe tbody tr th {\n",
       "        vertical-align: top;\n",
       "    }\n",
       "\n",
       "    .dataframe thead th {\n",
       "        text-align: right;\n",
       "    }\n",
       "</style>\n",
       "<table border=\"1\" class=\"dataframe\">\n",
       "  <thead>\n",
       "    <tr style=\"text-align: right;\">\n",
       "      <th></th>\n",
       "      <th>Date</th>\n",
       "      <th>Amount</th>\n",
       "    </tr>\n",
       "  </thead>\n",
       "  <tbody>\n",
       "    <tr>\n",
       "      <th>0</th>\n",
       "      <td>2024-10-23</td>\n",
       "      <td>1000.000000</td>\n",
       "    </tr>\n",
       "    <tr>\n",
       "      <th>1</th>\n",
       "      <td>2024-10-22</td>\n",
       "      <td>9.485742</td>\n",
       "    </tr>\n",
       "    <tr>\n",
       "      <th>2</th>\n",
       "      <td>2024-10-21</td>\n",
       "      <td>9.485742</td>\n",
       "    </tr>\n",
       "    <tr>\n",
       "      <th>3</th>\n",
       "      <td>2024-10-20</td>\n",
       "      <td>9.485742</td>\n",
       "    </tr>\n",
       "    <tr>\n",
       "      <th>4</th>\n",
       "      <td>2024-10-19</td>\n",
       "      <td>9.485742</td>\n",
       "    </tr>\n",
       "    <tr>\n",
       "      <th>5</th>\n",
       "      <td>2024-10-18</td>\n",
       "      <td>9.485742</td>\n",
       "    </tr>\n",
       "    <tr>\n",
       "      <th>6</th>\n",
       "      <td>2024-10-17</td>\n",
       "      <td>9.485742</td>\n",
       "    </tr>\n",
       "    <tr>\n",
       "      <th>7</th>\n",
       "      <td>2024-10-16</td>\n",
       "      <td>9.485742</td>\n",
       "    </tr>\n",
       "    <tr>\n",
       "      <th>8</th>\n",
       "      <td>2024-10-15</td>\n",
       "      <td>9.485742</td>\n",
       "    </tr>\n",
       "    <tr>\n",
       "      <th>9</th>\n",
       "      <td>2024-10-14</td>\n",
       "      <td>-990.514258</td>\n",
       "    </tr>\n",
       "  </tbody>\n",
       "</table>\n",
       "</div>"
      ],
      "text/plain": [
       "         Date       Amount\n",
       "0  2024-10-23  1000.000000\n",
       "1  2024-10-22     9.485742\n",
       "2  2024-10-21     9.485742\n",
       "3  2024-10-20     9.485742\n",
       "4  2024-10-19     9.485742\n",
       "5  2024-10-18     9.485742\n",
       "6  2024-10-17     9.485742\n",
       "7  2024-10-16     9.485742\n",
       "8  2024-10-15     9.485742\n",
       "9  2024-10-14  -990.514258"
      ]
     },
     "execution_count": 18,
     "metadata": {},
     "output_type": "execute_result"
    }
   ],
   "source": [
    "df = pd.DataFrame({\n",
    "        'Date': dates,\n",
    "        'Amount': cfs\n",
    "    })\n",
    "df"
   ]
  },
  {
   "cell_type": "code",
   "execution_count": 19,
   "id": "277e0563-b367-46b1-8569-38267cb7bacc",
   "metadata": {},
   "outputs": [],
   "source": [
    "# Export to a CSV file (optional)\n",
    "df.to_csv('cashflows.csv', index=False)"
   ]
  },
  {
   "cell_type": "code",
   "execution_count": null,
   "id": "597ae33c-5ed8-400b-bd93-55e4035291b1",
   "metadata": {},
   "outputs": [],
   "source": []
  }
 ],
 "metadata": {
  "kernelspec": {
   "display_name": "pycalcs",
   "language": "python",
   "name": "pycalcs"
  },
  "language_info": {
   "codemirror_mode": {
    "name": "ipython",
    "version": 3
   },
   "file_extension": ".py",
   "mimetype": "text/x-python",
   "name": "python",
   "nbconvert_exporter": "python",
   "pygments_lexer": "ipython3",
   "version": "3.12.6"
  }
 },
 "nbformat": 4,
 "nbformat_minor": 5
}
