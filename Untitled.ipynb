{
 "cells": [
  {
   "cell_type": "code",
   "execution_count": 1,
   "id": "ad58098a-02ac-453f-8fdf-46bbca611e97",
   "metadata": {},
   "outputs": [],
   "source": [
    "# Import necessary libraries\n",
    "import pandas as pd\n",
    "import numpy as np\n",
    "import matplotlib.pyplot as plt\n",
    "from scipy.optimize import newton, brentq\n",
    "from datetime import datetime\n",
    "\n",
    "# Step 1: Load and Preprocess Data\n",
    "def load_csv(file_path):\n",
    "    data = pd.read_csv(file_path, parse_dates=['Date'])\n",
    "    data = data.sort_values(by='Date')\n",
    "    data['Days'] = (data['Date'] - data['Date'].iloc[0]).dt.days\n",
    "    return data\n",
    "\n",
    "# Step 2: Define NPV Functions\n",
    "def npv_annualized_r(data, rate):\n",
    "    return np.sum(data['Amount'] / (1 + rate) ** (data['Days'] / 365))\n",
    "\n",
    "def npv_annualized_r_prime(data, rate):\n",
    "    return np.sum(-data['Days'] / 365 * data['Amount'] / (1 + rate) ** (data['Days'] / 365 + 1))\n",
    "\n",
    "def npv_annualized_r_double_prime(data, rate):\n",
    "    return np.sum(data['Days'] / 365 * (data['Days'] / 365 + 1) * data['Amount'] / (1 + rate) ** (data['Days'] / 365 + 2))\n",
    "\n",
    "def npv_deannualized_r(data, rate):\n",
    "    N = data['Days'].iloc[-1]\n",
    "    return np.sum(data['Amount'] / (1 + rate) ** (data['Days'] / N))\n",
    "\n",
    "def npv_deannualized_r_prime(data, rate):\n",
    "    N = data['Days'].iloc[-1]\n",
    "    return np.sum(-data['Days'] / N * data['Amount'] / (1 + rate) ** (data['Days'] / N + 1))\n",
    "\n",
    "def npv_deannualized_r_double_prime(data, rate):\n",
    "    N = data['Days'].iloc[-1]\n",
    "    return np.sum(data['Days'] / N * (data['Days'] / N + 1) * data['Amount'] / (1 + rate) ** (data['Days'] / N + 2))\n",
    "\n",
    "def npv_annualized_x(data, x):\n",
    "    return np.sum(data['Amount'] * (x ** (data['Days'] / 365)))\n",
    "\n",
    "def npv_deannualized_x(data, x):\n",
    "    N = data['Days'].iloc[-1]\n",
    "    return np.sum(data['Amount'] * (x ** (data['Days'] / N)))\n",
    "\n",
    "# Step 3: Plot NPV Curve\n",
    "def plot_npv_curve(data, npv_function, rate_range):\n",
    "    npv_values = [npv_function(data, r) for r in rate_range]\n",
    "    plt.plot(rate_range, npv_values)\n",
    "    plt.xlabel(\"Rate of Return\")\n",
    "    plt.ylabel(\"NPV\")\n",
    "    plt.title(\"NPV vs Rate of Return\")\n",
    "    plt.grid(True)\n",
    "    plt.show()\n",
    "\n",
    "# Step 4: Root Solvers\n",
    "# Newton-Raphson Solver\n",
    "def newton_raphson_solver(npv_function, npv_derivatives, data, initial_guess):\n",
    "    return newton(lambda r: npv_function(data, r), initial_guess, fprime=lambda r: npv_derivatives[0](data, r), maxiter=200)\n",
    "\n",
    "# Bisection Solver\n",
    "def bisection_solver(npv_function, data, lower_bound, upper_bound):\n",
    "    return brentq(lambda r: npv_function(data, r), lower_bound, upper_bound, xtol=1e-20)\n",
    "\n",
    "# Helper function to determine if positive root exists\n",
    "def positive_root_exists(data):\n",
    "    first_cashflow_sign = np.sign(data['Amount'].iloc[0])\n",
    "    total_cashflow_sign = np.sign(np.sum(data['Amount']))\n",
    "    return first_cashflow_sign != total_cashflow_sign\n",
    "\n",
    "# Helper function to determine if negative root exists\n",
    "def negative_root_exists(data):\n",
    "    total_cashflow_sign = np.sign(np.sum(data['Amount']))\n",
    "    last_cashflow_sign = np.sign(data['Amount'].iloc[-1])\n",
    "    return total_cashflow_sign != last_cashflow_sign\n",
    "\n",
    "def find_roots(npv_functions, npv_derivatives, data, guess):\n",
    "    # Check if positive and negative roots exist\n",
    "    positive_root = positive_root_exists(data)\n",
    "    negative_root = negative_root_exists(data)\n",
    "    \n",
    "    print(f\"Positive root exists: {positive_root}\")\n",
    "    print(f\"Negative root exists: {negative_root}\")\n",
    "\n",
    "    # Attempt Newton-Raphson solver\n",
    "    try:\n",
    "        root_newton_r = newton_raphson_solver(npv_functions[0], npv_derivatives, data, guess)\n",
    "        print(f\"IRR (Newton-Raphson): {root_newton_r}\")\n",
    "    except Exception as e:\n",
    "        print(f\"IRR (Newton-Raphson): {e}\")\n",
    "    \n",
    "    # Intelligent bisection solver with dynamic boundaries\n",
    "    if positive_root:\n",
    "        try:\n",
    "            root_bisection_x = bisection_solver(npv_functions[1], data, 0, 1)  # Upper bound large for positive roots\n",
    "            if root_bisection_x:\n",
    "                root_bisection_r = 1/root_bisection_x - 1\n",
    "                print(f\"IRR (Bisection, positive root): {root_bisection_r}\")\n",
    "        except Exception as e:\n",
    "            print(f\"IRR (Bisection, positive root): {e}\")\n",
    "    \n",
    "    if negative_root:\n",
    "        try:\n",
    "            root_bisection_r = bisection_solver(npv_functions[0], data, -1+1e-20, 0)  # Lower bound large for negative roots\n",
    "            print(f\"IRR (Bisection, negative root): {root_bisection_r}\")\n",
    "        except Exception as e:\n",
    "            print(f\"IRR (Bisection, negative root): {e}\")\n",
    "\n",
    "def npv_annualized():\n",
    "    return (npv_annualized_r, npv_annualized_x)\n",
    "\n",
    "def npv_annualized_r_derivatives():\n",
    "    return (npv_annualized_r_prime, npv_annualized_r_double_prime)\n",
    "\n",
    "def npv_deannualized():\n",
    "    return (npv_deannualized_r, npv_deannualized_x)\n",
    "\n",
    "def npv_deannualized_r_derivatives():\n",
    "    return (npv_deannualized_r_prime, npv_deannualized_r_double_prime)"
   ]
  },
  {
   "cell_type": "code",
   "execution_count": 2,
   "id": "3a0d7c41-a5ab-4330-8336-e9d793905fcb",
   "metadata": {},
   "outputs": [],
   "source": [
    "# Example Usage\n",
    "# Load data\n",
    "file_path = 'cashflows.csv'\n",
    "data = load_csv(file_path)"
   ]
  },
  {
   "cell_type": "code",
   "execution_count": 3,
   "id": "92b7208e-c791-40e3-84bf-b54fd717de6d",
   "metadata": {},
   "outputs": [
    {
     "data": {
      "text/html": [
       "<div>\n",
       "<style scoped>\n",
       "    .dataframe tbody tr th:only-of-type {\n",
       "        vertical-align: middle;\n",
       "    }\n",
       "\n",
       "    .dataframe tbody tr th {\n",
       "        vertical-align: top;\n",
       "    }\n",
       "\n",
       "    .dataframe thead th {\n",
       "        text-align: right;\n",
       "    }\n",
       "</style>\n",
       "<table border=\"1\" class=\"dataframe\">\n",
       "  <thead>\n",
       "    <tr style=\"text-align: right;\">\n",
       "      <th></th>\n",
       "      <th>Date</th>\n",
       "      <th>Amount</th>\n",
       "      <th>Days</th>\n",
       "    </tr>\n",
       "  </thead>\n",
       "  <tbody>\n",
       "    <tr>\n",
       "      <th>0</th>\n",
       "      <td>2000-01-01</td>\n",
       "      <td>2</td>\n",
       "      <td>0</td>\n",
       "    </tr>\n",
       "    <tr>\n",
       "      <th>1</th>\n",
       "      <td>2000-01-02</td>\n",
       "      <td>-2</td>\n",
       "      <td>1</td>\n",
       "    </tr>\n",
       "    <tr>\n",
       "      <th>2</th>\n",
       "      <td>2000-01-03</td>\n",
       "      <td>4</td>\n",
       "      <td>2</td>\n",
       "    </tr>\n",
       "    <tr>\n",
       "      <th>3</th>\n",
       "      <td>2000-01-04</td>\n",
       "      <td>-1</td>\n",
       "      <td>3</td>\n",
       "    </tr>\n",
       "  </tbody>\n",
       "</table>\n",
       "</div>"
      ],
      "text/plain": [
       "        Date  Amount  Days\n",
       "0 2000-01-01       2     0\n",
       "1 2000-01-02      -2     1\n",
       "2 2000-01-03       4     2\n",
       "3 2000-01-04      -1     3"
      ]
     },
     "execution_count": 3,
     "metadata": {},
     "output_type": "execute_result"
    }
   ],
   "source": [
    "data"
   ]
  },
  {
   "cell_type": "code",
   "execution_count": 4,
   "id": "1b39a62d-d511-4743-9472-9ff9b421f257",
   "metadata": {},
   "outputs": [
    {
     "name": "stdout",
     "output_type": "stream",
     "text": [
      "Positive root exists: False\n",
      "Negative root exists: True\n",
      "IRR (Newton-Raphson): Derivative was zero. Failed to converge after 10 iterations, value is -4.373262360068644e+168.\n",
      "IRR (Bisection, negative root): The function value at x=-1.0 is NaN; solver cannot continue.\n"
     ]
    },
    {
     "name": "stderr",
     "output_type": "stream",
     "text": [
      "/Volumes/code/calcs-explorer/pycalcs/lib/python3.12/site-packages/numpy/_core/_methods.py:53: RuntimeWarning: invalid value encountered in reduce\n",
      "  return umr_sum(a, axis, dtype, out, keepdims, initial, where)\n"
     ]
    }
   ],
   "source": [
    "find_roots(npv_deannualized(), npv_deannualized_r_derivatives(), data, 0.1)"
   ]
  },
  {
   "cell_type": "code",
   "execution_count": null,
   "id": "9ac0d3fb-805d-423b-8df6-3b93bd991a5c",
   "metadata": {},
   "outputs": [],
   "source": [
    "find_roots(npv_annualized(), npv_annualized_r_derivatives(), data, 0.1)"
   ]
  },
  {
   "cell_type": "code",
   "execution_count": null,
   "id": "60d9371c-4331-46ef-819e-0942505fdc22",
   "metadata": {},
   "outputs": [],
   "source": [
    "(1 + 109.161)**(1/8766) - 1"
   ]
  },
  {
   "cell_type": "code",
   "execution_count": 5,
   "id": "1a15ba9d-e1ee-4de7-ac28-ed0bfe729509",
   "metadata": {},
   "outputs": [
    {
     "data": {
      "text/plain": [
       "np.float64(6.201847985989789e-152)"
      ]
     },
     "execution_count": 5,
     "metadata": {},
     "output_type": "execute_result"
    }
   ],
   "source": [
    "npv_deannualized_r(data, 1.612422623480998e+151)"
   ]
  },
  {
   "cell_type": "code",
   "execution_count": null,
   "id": "ba769034-9bf8-4d18-af54-c76a8d5d5e6e",
   "metadata": {},
   "outputs": [],
   "source": [
    "npv_annualized_x(data, 1e-100)"
   ]
  },
  {
   "cell_type": "code",
   "execution_count": null,
   "id": "77858be8-1d1d-4a63-a843-e22658eadef0",
   "metadata": {},
   "outputs": [],
   "source": [
    "t = 0.008486175745962223\n",
    "d = 0\n",
    "tau = -1/((t - 1)*(1 + d))\n",
    "r = np.exp(-np.log(tau)/t) - 1\n",
    "r"
   ]
  },
  {
   "cell_type": "code",
   "execution_count": null,
   "id": "752f9825-ca57-4be1-a4d9-d82fac018f3d",
   "metadata": {},
   "outputs": [],
   "source": [
    "t0*3653, t1*3653"
   ]
  },
  {
   "cell_type": "code",
   "execution_count": null,
   "id": "77a92c1c-8272-4029-8a2d-8fb177580d32",
   "metadata": {},
   "outputs": [],
   "source": [
    "31/3653"
   ]
  },
  {
   "cell_type": "code",
   "execution_count": null,
   "id": "230f039b-0c6e-4bbb-80b5-75efe7e4a752",
   "metadata": {},
   "outputs": [],
   "source": []
  }
 ],
 "metadata": {
  "kernelspec": {
   "display_name": "pycalcs",
   "language": "python",
   "name": "pycalcs"
  },
  "language_info": {
   "codemirror_mode": {
    "name": "ipython",
    "version": 3
   },
   "file_extension": ".py",
   "mimetype": "text/x-python",
   "name": "python",
   "nbconvert_exporter": "python",
   "pygments_lexer": "ipython3",
   "version": "3.12.6"
  }
 },
 "nbformat": 4,
 "nbformat_minor": 5
}
